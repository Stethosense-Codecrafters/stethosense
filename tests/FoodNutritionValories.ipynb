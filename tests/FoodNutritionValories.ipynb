{
 "cells": [
  {
   "cell_type": "code",
   "execution_count": 15,
   "metadata": {},
   "outputs": [],
   "source": [
    "import matplotlib.pyplot as plt\n",
    "import numpy as np\n",
    "import pandas as pd \n",
    "from pulp import * \n",
    "import seaborn as sns"
   ]
  },
  {
   "cell_type": "code",
   "execution_count": 31,
   "metadata": {},
   "outputs": [
    {
     "data": {
      "text/html": [
       "<div>\n",
       "<style scoped>\n",
       "    .dataframe tbody tr th:only-of-type {\n",
       "        vertical-align: middle;\n",
       "    }\n",
       "\n",
       "    .dataframe tbody tr th {\n",
       "        vertical-align: top;\n",
       "    }\n",
       "\n",
       "    .dataframe thead th {\n",
       "        text-align: right;\n",
       "    }\n",
       "</style>\n",
       "<table border=\"1\" class=\"dataframe\">\n",
       "  <thead>\n",
       "    <tr style=\"text-align: right;\">\n",
       "      <th></th>\n",
       "      <th>name</th>\n",
       "      <th>serving_size</th>\n",
       "      <th>calories</th>\n",
       "      <th>total_fat</th>\n",
       "      <th>saturated_fat</th>\n",
       "      <th>cholesterol</th>\n",
       "      <th>sodium</th>\n",
       "      <th>choline</th>\n",
       "      <th>folate</th>\n",
       "      <th>folic_acid</th>\n",
       "      <th>...</th>\n",
       "      <th>fat</th>\n",
       "      <th>saturated_fatty_acids</th>\n",
       "      <th>monounsaturated_fatty_acids</th>\n",
       "      <th>polyunsaturated_fatty_acids</th>\n",
       "      <th>fatty_acids_total_trans</th>\n",
       "      <th>alcohol</th>\n",
       "      <th>ash</th>\n",
       "      <th>caffeine</th>\n",
       "      <th>theobromine</th>\n",
       "      <th>water</th>\n",
       "    </tr>\n",
       "  </thead>\n",
       "  <tbody>\n",
       "    <tr>\n",
       "      <th>0</th>\n",
       "      <td>Cornstarch</td>\n",
       "      <td>100 g</td>\n",
       "      <td>381</td>\n",
       "      <td>0.1g</td>\n",
       "      <td>NaN</td>\n",
       "      <td>0</td>\n",
       "      <td>9.00 mg</td>\n",
       "      <td>0.4 mg</td>\n",
       "      <td>0.00 mcg</td>\n",
       "      <td>0.00 mcg</td>\n",
       "      <td>...</td>\n",
       "      <td>0.05 g</td>\n",
       "      <td>0.009 g</td>\n",
       "      <td>0.016 g</td>\n",
       "      <td>0.025 g</td>\n",
       "      <td>0.00 mg</td>\n",
       "      <td>0.0 g</td>\n",
       "      <td>0.09 g</td>\n",
       "      <td>0.00 mg</td>\n",
       "      <td>0.00 mg</td>\n",
       "      <td>8.32 g</td>\n",
       "    </tr>\n",
       "    <tr>\n",
       "      <th>1</th>\n",
       "      <td>Nuts, pecans</td>\n",
       "      <td>100 g</td>\n",
       "      <td>691</td>\n",
       "      <td>72g</td>\n",
       "      <td>6.2g</td>\n",
       "      <td>0</td>\n",
       "      <td>0.00 mg</td>\n",
       "      <td>40.5 mg</td>\n",
       "      <td>22.00 mcg</td>\n",
       "      <td>0.00 mcg</td>\n",
       "      <td>...</td>\n",
       "      <td>71.97 g</td>\n",
       "      <td>6.180 g</td>\n",
       "      <td>40.801 g</td>\n",
       "      <td>21.614 g</td>\n",
       "      <td>0.00 mg</td>\n",
       "      <td>0.0 g</td>\n",
       "      <td>1.49 g</td>\n",
       "      <td>0.00 mg</td>\n",
       "      <td>0.00 mg</td>\n",
       "      <td>3.52 g</td>\n",
       "    </tr>\n",
       "    <tr>\n",
       "      <th>2</th>\n",
       "      <td>Eggplant, raw</td>\n",
       "      <td>100 g</td>\n",
       "      <td>25</td>\n",
       "      <td>0.2g</td>\n",
       "      <td>NaN</td>\n",
       "      <td>0</td>\n",
       "      <td>2.00 mg</td>\n",
       "      <td>6.9 mg</td>\n",
       "      <td>22.00 mcg</td>\n",
       "      <td>0.00 mcg</td>\n",
       "      <td>...</td>\n",
       "      <td>0.18 g</td>\n",
       "      <td>0.034 g</td>\n",
       "      <td>0.016 g</td>\n",
       "      <td>0.076 g</td>\n",
       "      <td>0.00 mg</td>\n",
       "      <td>0.0 g</td>\n",
       "      <td>0.66 g</td>\n",
       "      <td>0.00 mg</td>\n",
       "      <td>0.00 mg</td>\n",
       "      <td>92.30 g</td>\n",
       "    </tr>\n",
       "    <tr>\n",
       "      <th>3</th>\n",
       "      <td>Teff, uncooked</td>\n",
       "      <td>100 g</td>\n",
       "      <td>367</td>\n",
       "      <td>2.4g</td>\n",
       "      <td>0.4g</td>\n",
       "      <td>0</td>\n",
       "      <td>12.00 mg</td>\n",
       "      <td>13.1 mg</td>\n",
       "      <td>0</td>\n",
       "      <td>0</td>\n",
       "      <td>...</td>\n",
       "      <td>2.38 g</td>\n",
       "      <td>0.449 g</td>\n",
       "      <td>0.589 g</td>\n",
       "      <td>1.071 g</td>\n",
       "      <td>0</td>\n",
       "      <td>0</td>\n",
       "      <td>2.37 g</td>\n",
       "      <td>0</td>\n",
       "      <td>0</td>\n",
       "      <td>8.82 g</td>\n",
       "    </tr>\n",
       "    <tr>\n",
       "      <th>4</th>\n",
       "      <td>Sherbet, orange</td>\n",
       "      <td>100 g</td>\n",
       "      <td>144</td>\n",
       "      <td>2g</td>\n",
       "      <td>1.2g</td>\n",
       "      <td>1mg</td>\n",
       "      <td>46.00 mg</td>\n",
       "      <td>7.7 mg</td>\n",
       "      <td>4.00 mcg</td>\n",
       "      <td>0.00 mcg</td>\n",
       "      <td>...</td>\n",
       "      <td>2.00 g</td>\n",
       "      <td>1.160 g</td>\n",
       "      <td>0.530 g</td>\n",
       "      <td>0.080 g</td>\n",
       "      <td>1.00 mg</td>\n",
       "      <td>0.0 g</td>\n",
       "      <td>0.40 g</td>\n",
       "      <td>0.00 mg</td>\n",
       "      <td>0.00 mg</td>\n",
       "      <td>66.10 g</td>\n",
       "    </tr>\n",
       "  </tbody>\n",
       "</table>\n",
       "<p>5 rows × 76 columns</p>\n",
       "</div>"
      ],
      "text/plain": [
       "              name serving_size  calories total_fat saturated_fat cholesterol  \\\n",
       "0       Cornstarch        100 g       381      0.1g           NaN           0   \n",
       "1     Nuts, pecans        100 g       691       72g          6.2g           0   \n",
       "2    Eggplant, raw        100 g        25      0.2g           NaN           0   \n",
       "3   Teff, uncooked        100 g       367      2.4g          0.4g           0   \n",
       "4  Sherbet, orange        100 g       144        2g          1.2g         1mg   \n",
       "\n",
       "     sodium  choline     folate folic_acid  ...      fat  \\\n",
       "0   9.00 mg   0.4 mg   0.00 mcg   0.00 mcg  ...   0.05 g   \n",
       "1   0.00 mg  40.5 mg  22.00 mcg   0.00 mcg  ...  71.97 g   \n",
       "2   2.00 mg   6.9 mg  22.00 mcg   0.00 mcg  ...   0.18 g   \n",
       "3  12.00 mg  13.1 mg          0          0  ...   2.38 g   \n",
       "4  46.00 mg   7.7 mg   4.00 mcg   0.00 mcg  ...   2.00 g   \n",
       "\n",
       "  saturated_fatty_acids monounsaturated_fatty_acids  \\\n",
       "0               0.009 g                     0.016 g   \n",
       "1               6.180 g                    40.801 g   \n",
       "2               0.034 g                     0.016 g   \n",
       "3               0.449 g                     0.589 g   \n",
       "4               1.160 g                     0.530 g   \n",
       "\n",
       "  polyunsaturated_fatty_acids fatty_acids_total_trans alcohol     ash  \\\n",
       "0                     0.025 g                 0.00 mg   0.0 g  0.09 g   \n",
       "1                    21.614 g                 0.00 mg   0.0 g  1.49 g   \n",
       "2                     0.076 g                 0.00 mg   0.0 g  0.66 g   \n",
       "3                     1.071 g                       0       0  2.37 g   \n",
       "4                     0.080 g                 1.00 mg   0.0 g  0.40 g   \n",
       "\n",
       "  caffeine theobromine    water  \n",
       "0  0.00 mg     0.00 mg   8.32 g  \n",
       "1  0.00 mg     0.00 mg   3.52 g  \n",
       "2  0.00 mg     0.00 mg  92.30 g  \n",
       "3        0           0   8.82 g  \n",
       "4  0.00 mg     0.00 mg  66.10 g  \n",
       "\n",
       "[5 rows x 76 columns]"
      ]
     },
     "execution_count": 31,
     "metadata": {},
     "output_type": "execute_result"
    }
   ],
   "source": [
    "data = pd.read_csv('nutrition.csv').drop('Unnamed: 0',axis=1)\n",
    "data.head()"
   ]
  },
  {
   "cell_type": "code",
   "execution_count": 32,
   "metadata": {},
   "outputs": [],
   "source": [
    "data = data[['name','serving_size','calories','carbohydrate','total_fat','protein']]"
   ]
  },
  {
   "cell_type": "code",
   "execution_count": 18,
   "metadata": {},
   "outputs": [
    {
     "data": {
      "text/plain": [
       "<Axes: ylabel='count'>"
      ]
     },
     "execution_count": 18,
     "metadata": {},
     "output_type": "execute_result"
    },
    {
     "data": {
      "image/png": "[encoded data removed]",
      "text/plain": [
       "<Figure size 640x480 with 1 Axes>"
      ]
     },
     "metadata": {},
     "output_type": "display_data"
    }
   ],
   "source": [
    "# data.serving_size.map(lambda x: x[:-2])\n",
    "sns.countplot(data.serving_size.map(lambda x: x[:-2]))"
   ]
  },
  {
   "cell_type": "code",
   "execution_count": 33,
   "metadata": {},
   "outputs": [],
   "source": [
    "data = data.drop('serving_size',axis=1)"
   ]
  },
  {
   "cell_type": "code",
   "execution_count": 20,
   "metadata": {},
   "outputs": [
    {
     "name": "stdout",
     "output_type": "stream",
     "text": [
      "<class 'pandas.core.frame.DataFrame'>\n",
      "RangeIndex: 8789 entries, 0 to 8788\n",
      "Data columns (total 5 columns):\n",
      " #   Column        Non-Null Count  Dtype \n",
      "---  ------        --------------  ----- \n",
      " 0   name          8789 non-null   object\n",
      " 1   calories      8789 non-null   int64 \n",
      " 2   carbohydrate  8789 non-null   object\n",
      " 3   total_fat     8789 non-null   object\n",
      " 4   protein       8789 non-null   object\n",
      "dtypes: int64(1), object(4)\n",
      "memory usage: 343.4+ KB\n"
     ]
    }
   ],
   "source": [
    "data.info()"
   ]
  },
  {
   "cell_type": "code",
   "execution_count": 34,
   "metadata": {},
   "outputs": [],
   "source": [
    "data['carbohydrate'] = np.array([data['carbohydrate'].tolist()[i].split(' ') for i in range(len(data))])[:,0].astype('float')\n",
    "data['protein'] = np.array([data['protein'].tolist()[i].split(' ') for i in range(len(data))])[:,0].astype('float')\n",
    "data['total_fat'] = np.array([data['total_fat'].tolist()[i].split('g') for i in range(len(data))])[:,0].astype('float')"
   ]
  },
  {
   "cell_type": "code",
   "execution_count": 22,
   "metadata": {},
   "outputs": [
    {
     "data": {
      "text/plain": [
       "0        0.1\n",
       "1       72.0\n",
       "2        0.2\n",
       "3        2.4\n",
       "4        2.0\n",
       "        ... \n",
       "8784     3.5\n",
       "8785     8.9\n",
       "8786    23.0\n",
       "8787     3.0\n",
       "8788     3.0\n",
       "Name: total_fat, Length: 8789, dtype: float64"
      ]
     },
     "execution_count": 22,
     "metadata": {},
     "output_type": "execute_result"
    }
   ],
   "source": [
    "data['total_fat']"
   ]
  },
  {
   "cell_type": "code",
   "execution_count": 29,
   "metadata": {},
   "outputs": [
    {
     "data": {
      "text/plain": [
       "0        0.26\n",
       "1        9.17\n",
       "2        0.98\n",
       "3       13.30\n",
       "4        1.10\n",
       "        ...  \n",
       "8784    23.45\n",
       "8785    29.59\n",
       "8786    16.74\n",
       "8787    23.37\n",
       "8788    23.37\n",
       "Name: protein, Length: 8789, dtype: float64"
      ]
     },
     "execution_count": 29,
     "metadata": {},
     "output_type": "execute_result"
    }
   ],
   "source": [
    "data['protein']"
   ]
  },
  {
   "cell_type": "code",
   "execution_count": 35,
   "metadata": {},
   "outputs": [
    {
     "data": {
      "text/plain": [
       "(array([     0.,  25000.,  50000.,  75000., 100000., 125000., 150000.,\n",
       "        175000., 200000., 225000.]),\n",
       " [Text(0, 0.0, '0'),\n",
       "  Text(0, 25000.0, '25000'),\n",
       "  Text(0, 50000.0, '50000'),\n",
       "  Text(0, 75000.0, '75000'),\n",
       "  Text(0, 100000.0, '100000'),\n",
       "  Text(0, 125000.0, '125000'),\n",
       "  Text(0, 150000.0, '150000'),\n",
       "  Text(0, 175000.0, '175000'),\n",
       "  Text(0, 200000.0, '200000'),\n",
       "  Text(0, 225000.0, '225000')])"
      ]
     },
     "execution_count": 35,
     "metadata": {},
     "output_type": "execute_result"
    },
    {
     "data": {
      "image/png": "[encoded data removed]",
      "text/plain": [
       "<Figure size 2000x1000 with 1 Axes>"
      ]
     },
     "metadata": {},
     "output_type": "display_data"
    }
   ],
   "source": [
    "sums = data[['carbohydrate','total_fat','protein']].sum()\n",
    "\n",
    "# Create DataFrame for plotting\n",
    "plot_data = pd.DataFrame({'Nutritional Values': sums.index, 'Grams (g)': sums.values})\n",
    "\n",
    "plt.figure(figsize=(20,10))\n",
    "sns.barplot(x='Nutritional Values', y='Grams (g)', data=plot_data)\n",
    "plt.grid(alpha=0.2)\n",
    "plt.xlabel('Nutritional Values in the dataset',fontsize=18)\n",
    "plt.ylabel('Grams (g)',fontsize=18)\n",
    "plt.xticks(fontsize=12)\n",
    "plt.yticks(fontsize=12)"
   ]
  },
  {
   "cell_type": "code",
   "execution_count": 40,
   "metadata": {},
   "outputs": [
    {
     "data": {
      "text/plain": [
       "[70.0, 187.5, 52.22222222222222]"
      ]
     },
     "execution_count": 40,
     "metadata": {},
     "output_type": "execute_result"
    }
   ],
   "source": [
    "list(extract_gram(build_nutritional_values(70,1500)).values())\n",
    "#list(extract_gram(build_nutritional_values(70,1500)).keys())"
   ]
  },
  {
   "cell_type": "code",
   "execution_count": 39,
   "metadata": {},
   "outputs": [
    {
     "data": {
      "text/plain": [
       "(array([  0.,  25.,  50.,  75., 100., 125., 150., 175., 200.]),\n",
       " [Text(0, 0.0, '0'),\n",
       "  Text(0, 25.0, '25'),\n",
       "  Text(0, 50.0, '50'),\n",
       "  Text(0, 75.0, '75'),\n",
       "  Text(0, 100.0, '100'),\n",
       "  Text(0, 125.0, '125'),\n",
       "  Text(0, 150.0, '150'),\n",
       "  Text(0, 175.0, '175'),\n",
       "  Text(0, 200.0, '200')])"
      ]
     },
     "execution_count": 39,
     "metadata": {},
     "output_type": "execute_result"
    },
    {
     "data": {
      "image/png": "[encoded data removed]",
      "text/plain": [
       "<Figure size 2000x1000 with 1 Axes>"
      ]
     },
     "metadata": {},
     "output_type": "display_data"
    }
   ],
   "source": [
    "perfect_proportion = list(extract_gram(build_nutritional_values(70,1500)).values())\n",
    "plt.figure(figsize=(20,10))\n",
    "sns.barplot(x=list(extract_gram(build_nutritional_values(70,1500)).keys()), y=perfect_proportion)\n",
    "plt.grid(alpha=0.2)\n",
    "plt.xlabel('Nutritional Values',fontsize=18)\n",
    "plt.ylabel('Indicative ideal proportion in your diet (grams)',fontsize=18)\n",
    "plt.xticks(fontsize=12)\n",
    "plt.yticks(fontsize=12)\n"
   ]
  },
  {
   "cell_type": "code",
   "execution_count": null,
   "metadata": {},
   "outputs": [],
   "source": [
    "shuffled_data = data.sample(frac=1).reset_index().drop('index',axis=1)"
   ]
  },
  {
   "cell_type": "code",
   "execution_count": null,
   "metadata": {},
   "outputs": [],
   "source": [
    "split_data_loc = np.linspace(0,len(shuffled_data),8).astype(int)"
   ]
  },
  {
   "cell_type": "code",
   "execution_count": null,
   "metadata": {},
   "outputs": [
    {
     "data": {
      "text/html": [
       "<div>\n",
       "<style scoped>\n",
       "    .dataframe tbody tr th:only-of-type {\n",
       "        vertical-align: middle;\n",
       "    }\n",
       "\n",
       "    .dataframe tbody tr th {\n",
       "        vertical-align: top;\n",
       "    }\n",
       "\n",
       "    .dataframe thead th {\n",
       "        text-align: right;\n",
       "    }\n",
       "</style>\n",
       "<table border=\"1\" class=\"dataframe\">\n",
       "  <thead>\n",
       "    <tr style=\"text-align: right;\">\n",
       "      <th></th>\n",
       "      <th>name</th>\n",
       "      <th>calories</th>\n",
       "      <th>carbohydrate</th>\n",
       "      <th>total_fat</th>\n",
       "      <th>protein</th>\n",
       "    </tr>\n",
       "  </thead>\n",
       "  <tbody>\n",
       "    <tr>\n",
       "      <th>0</th>\n",
       "      <td>HEALTHY REQUEST, condensed, Minestrone Soup</td>\n",
       "      <td>63</td>\n",
       "      <td>11.90</td>\n",
       "      <td>0.4</td>\n",
       "      <td>2.38</td>\n",
       "    </tr>\n",
       "    <tr>\n",
       "      <th>1</th>\n",
       "      <td>Ostrich, cooked, oyster</td>\n",
       "      <td>159</td>\n",
       "      <td>0.00</td>\n",
       "      <td>4.0</td>\n",
       "      <td>28.81</td>\n",
       "    </tr>\n",
       "    <tr>\n",
       "      <th>2</th>\n",
       "      <td>Pork, raw or unheated, breakfast strips, cured</td>\n",
       "      <td>388</td>\n",
       "      <td>0.70</td>\n",
       "      <td>37.0</td>\n",
       "      <td>11.74</td>\n",
       "    </tr>\n",
       "    <tr>\n",
       "      <th>3</th>\n",
       "      <td>Babyfood, junior, tutti frutti, fruit</td>\n",
       "      <td>69</td>\n",
       "      <td>16.00</td>\n",
       "      <td>0.4</td>\n",
       "      <td>0.40</td>\n",
       "    </tr>\n",
       "    <tr>\n",
       "      <th>4</th>\n",
       "      <td>Candies, SKITTLES Tropical Bite Size Candies, ...</td>\n",
       "      <td>405</td>\n",
       "      <td>90.77</td>\n",
       "      <td>4.3</td>\n",
       "      <td>0.19</td>\n",
       "    </tr>\n",
       "    <tr>\n",
       "      <th>...</th>\n",
       "      <td>...</td>\n",
       "      <td>...</td>\n",
       "      <td>...</td>\n",
       "      <td>...</td>\n",
       "      <td>...</td>\n",
       "    </tr>\n",
       "    <tr>\n",
       "      <th>1251</th>\n",
       "      <td>Tomatoes, year round average, raw, ripe, red</td>\n",
       "      <td>18</td>\n",
       "      <td>3.89</td>\n",
       "      <td>0.2</td>\n",
       "      <td>0.88</td>\n",
       "    </tr>\n",
       "    <tr>\n",
       "      <th>1252</th>\n",
       "      <td>Crustaceans, made from surimi, imitation, mixe...</td>\n",
       "      <td>101</td>\n",
       "      <td>9.13</td>\n",
       "      <td>1.5</td>\n",
       "      <td>12.39</td>\n",
       "    </tr>\n",
       "    <tr>\n",
       "      <th>1253</th>\n",
       "      <td>Plums, solids and liquids, juice pack, purple,...</td>\n",
       "      <td>58</td>\n",
       "      <td>15.15</td>\n",
       "      <td>0.0</td>\n",
       "      <td>0.51</td>\n",
       "    </tr>\n",
       "    <tr>\n",
       "      <th>1254</th>\n",
       "      <td>Pork, simmered, cooked, feet, variety meats an...</td>\n",
       "      <td>238</td>\n",
       "      <td>0.00</td>\n",
       "      <td>16.0</td>\n",
       "      <td>21.94</td>\n",
       "    </tr>\n",
       "    <tr>\n",
       "      <th>1255</th>\n",
       "      <td>Candies, butterscotch</td>\n",
       "      <td>391</td>\n",
       "      <td>90.40</td>\n",
       "      <td>3.3</td>\n",
       "      <td>0.03</td>\n",
       "    </tr>\n",
       "  </tbody>\n",
       "</table>\n",
       "<p>1256 rows × 5 columns</p>\n",
       "</div>"
      ],
      "text/plain": [
       "                                                   name  calories  \\\n",
       "0           HEALTHY REQUEST, condensed, Minestrone Soup        63   \n",
       "1                               Ostrich, cooked, oyster       159   \n",
       "2        Pork, raw or unheated, breakfast strips, cured       388   \n",
       "3                 Babyfood, junior, tutti frutti, fruit        69   \n",
       "4     Candies, SKITTLES Tropical Bite Size Candies, ...       405   \n",
       "...                                                 ...       ...   \n",
       "1251       Tomatoes, year round average, raw, ripe, red        18   \n",
       "1252  Crustaceans, made from surimi, imitation, mixe...       101   \n",
       "1253  Plums, solids and liquids, juice pack, purple,...        58   \n",
       "1254  Pork, simmered, cooked, feet, variety meats an...       238   \n",
       "1255                              Candies, butterscotch       391   \n",
       "\n",
       "      carbohydrate  total_fat  protein  \n",
       "0            11.90        0.4     2.38  \n",
       "1             0.00        4.0    28.81  \n",
       "2             0.70       37.0    11.74  \n",
       "3            16.00        0.4     0.40  \n",
       "4            90.77        4.3     0.19  \n",
       "...            ...        ...      ...  \n",
       "1251          3.89        0.2     0.88  \n",
       "1252          9.13        1.5    12.39  \n",
       "1253         15.15        0.0     0.51  \n",
       "1254          0.00       16.0    21.94  \n",
       "1255         90.40        3.3     0.03  \n",
       "\n",
       "[1256 rows x 5 columns]"
      ]
     },
     "execution_count": 40,
     "metadata": {},
     "output_type": "execute_result"
    }
   ],
   "source": [
    "shuffled_data.loc[split_data_loc[0]:split_data_loc[1]]"
   ]
  },
  {
   "cell_type": "code",
   "execution_count": 36,
   "metadata": {},
   "outputs": [],
   "source": [
    "def build_nutritional_values(kg,calories):\n",
    "    protein_calories = kg*4\n",
    "    res_calories = calories-protein_calories\n",
    "    carb_calories = calories/2.\n",
    "    fat_calories = calories-carb_calories-protein_calories\n",
    "    res = {'Protein Calories':protein_calories,'Carbohydrates Calories':carb_calories,'Fat Calories':fat_calories}\n",
    "    return res"
   ]
  },
  {
   "cell_type": "code",
   "execution_count": null,
   "metadata": {},
   "outputs": [
    {
     "data": {
      "text/plain": [
       "{'Protein Calories': 280,\n",
       " 'Carbohydrates Calories': 1000.0,\n",
       " 'Fat Calories': 720.0}"
      ]
     },
     "execution_count": 34,
     "metadata": {},
     "output_type": "execute_result"
    }
   ],
   "source": [
    "build_nutritional_values(70,2000)"
   ]
  },
  {
   "cell_type": "code",
   "execution_count": 38,
   "metadata": {},
   "outputs": [],
   "source": [
    "def extract_gram(table):\n",
    "    protein_grams = table['Protein Calories']/4.\n",
    "    carbs_grams = table['Carbohydrates Calories']/4.\n",
    "    fat_grams = table['Fat Calories']/9.\n",
    "    res = {'Protein Grams':protein_grams, 'Carbohydrates Grams':carbs_grams,'Fat Grams':fat_grams}\n",
    "    return res"
   ]
  },
  {
   "cell_type": "code",
   "execution_count": null,
   "metadata": {},
   "outputs": [
    {
     "name": "stdout",
     "output_type": "stream",
     "text": [
      "{'Protein Calories': 280, 'Carbohydrates Calories': 750.0, 'Fat Calories': 470.0}\n",
      "{'Protein Grams': 70.0, 'Carbohydrates Grams': 187.5, 'Fat Grams': 52.22222222222222}\n"
     ]
    }
   ],
   "source": [
    "print(build_nutritional_values(70,1500))\n",
    "print(extract_gram(build_nutritional_values(70,1500)))"
   ]
  },
  {
   "cell_type": "markdown",
   "metadata": {},
   "source": [
    "https://www.healthline.com/health/balanced-diet#calories"
   ]
  },
  {
   "cell_type": "markdown",
   "metadata": {},
   "source": [
    "https://i-base.info/guides/side/diet-a-balanced-diet-and-your-health"
   ]
  },
  {
   "cell_type": "code",
   "execution_count": null,
   "metadata": {},
   "outputs": [
    {
     "data": {
      "text/plain": [
       "(array([-0.2,  0. ,  0.2,  0.4,  0.6,  0.8,  1. ,  1.2]),\n",
       " [Text(0, -0.2, '−0.2'),\n",
       "  Text(0, 0.0, '0.0'),\n",
       "  Text(0, 0.2, '0.2'),\n",
       "  Text(0, 0.4000000000000001, '0.4'),\n",
       "  Text(0, 0.6000000000000001, '0.6'),\n",
       "  Text(0, 0.8, '0.8'),\n",
       "  Text(0, 1.0000000000000002, '1.0'),\n",
       "  Text(0, 1.2000000000000002, '1.2')])"
      ]
     },
     "execution_count": 42,
     "metadata": {},
     "output_type": "execute_result"
    },
    {
     "data": {
      "image/png": "[encoded data removed]",
      "text/plain": [
       "<Figure size 640x480 with 1 Axes>"
      ]
     },
     "metadata": {},
     "output_type": "display_data"
    }
   ],
   "source": [
    "x = np.linspace(-1,1,1000)\n",
    "plt.plot(x,x**2)\n",
    "plt.xlabel('x',fontsize=15)\n",
    "plt.ylabel('y(x)',fontsize=15)\n",
    "plt.xticks(fontsize=12)\n",
    "plt.yticks(fontsize=12)"
   ]
  },
  {
   "cell_type": "code",
   "execution_count": null,
   "metadata": {},
   "outputs": [],
   "source": [
    "# import jovian\n",
    "# jovian.commit()"
   ]
  },
  {
   "cell_type": "markdown",
   "metadata": {},
   "source": [
    "## Version 8"
   ]
  },
  {
   "cell_type": "code",
   "execution_count": 42,
   "metadata": {},
   "outputs": [
    {
     "ename": "AttributeError",
     "evalue": "'float' object has no attribute 'split'",
     "output_type": "error",
     "traceback": [
      "\u001b[1;31m---------------------------------------------------------------------------\u001b[0m",
      "\u001b[1;31mAttributeError\u001b[0m                            Traceback (most recent call last)",
      "\u001b[1;32mc:\\Users\\Nitish\\Desktop\\stethosense\\tests\\FoodNutritionValories.ipynb Cell 25\u001b[0m line \u001b[0;36m1\n\u001b[1;32m----> <a href='vscode-notebook-cell:/c%3A/Users/Nitish/Desktop/stethosense/tests/FoodNutritionValories.ipynb#X33sZmlsZQ%3D%3D?line=0'>1</a>\u001b[0m data[\u001b[39m'\u001b[39m\u001b[39mcarbohydrate\u001b[39m\u001b[39m'\u001b[39m] \u001b[39m=\u001b[39m np\u001b[39m.\u001b[39marray([data[\u001b[39m'\u001b[39m\u001b[39mcarbohydrate\u001b[39m\u001b[39m'\u001b[39m]\u001b[39m.\u001b[39mtolist()[i]\u001b[39m.\u001b[39msplit(\u001b[39m'\u001b[39m\u001b[39m \u001b[39m\u001b[39m'\u001b[39m) \u001b[39mfor\u001b[39;00m i \u001b[39min\u001b[39;00m \u001b[39mrange\u001b[39m(\u001b[39mlen\u001b[39m(data))])[:,\u001b[39m0\u001b[39m]\u001b[39m.\u001b[39mastype(\u001b[39m'\u001b[39m\u001b[39mfloat\u001b[39m\u001b[39m'\u001b[39m)\n\u001b[0;32m      <a href='vscode-notebook-cell:/c%3A/Users/Nitish/Desktop/stethosense/tests/FoodNutritionValories.ipynb#X33sZmlsZQ%3D%3D?line=1'>2</a>\u001b[0m data[\u001b[39m'\u001b[39m\u001b[39mprotein\u001b[39m\u001b[39m'\u001b[39m] \u001b[39m=\u001b[39m np\u001b[39m.\u001b[39marray([data[\u001b[39m'\u001b[39m\u001b[39mprotein\u001b[39m\u001b[39m'\u001b[39m]\u001b[39m.\u001b[39mtolist()[i]\u001b[39m.\u001b[39msplit(\u001b[39m'\u001b[39m\u001b[39m \u001b[39m\u001b[39m'\u001b[39m) \u001b[39mfor\u001b[39;00m i \u001b[39min\u001b[39;00m \u001b[39mrange\u001b[39m(\u001b[39mlen\u001b[39m(data))])[:,\u001b[39m0\u001b[39m]\u001b[39m.\u001b[39mastype(\u001b[39m'\u001b[39m\u001b[39mfloat\u001b[39m\u001b[39m'\u001b[39m)\n\u001b[0;32m      <a href='vscode-notebook-cell:/c%3A/Users/Nitish/Desktop/stethosense/tests/FoodNutritionValories.ipynb#X33sZmlsZQ%3D%3D?line=2'>3</a>\u001b[0m data[\u001b[39m'\u001b[39m\u001b[39mtotal_fat\u001b[39m\u001b[39m'\u001b[39m] \u001b[39m=\u001b[39m np\u001b[39m.\u001b[39marray([data[\u001b[39m'\u001b[39m\u001b[39mtotal_fat\u001b[39m\u001b[39m'\u001b[39m]\u001b[39m.\u001b[39mtolist()[i]\u001b[39m.\u001b[39msplit(\u001b[39m'\u001b[39m\u001b[39mg\u001b[39m\u001b[39m'\u001b[39m) \u001b[39mfor\u001b[39;00m i \u001b[39min\u001b[39;00m \u001b[39mrange\u001b[39m(\u001b[39mlen\u001b[39m(data))])[:,\u001b[39m0\u001b[39m]\u001b[39m.\u001b[39mastype(\u001b[39m'\u001b[39m\u001b[39mfloat\u001b[39m\u001b[39m'\u001b[39m)\n",
      "\u001b[1;32mc:\\Users\\Nitish\\Desktop\\stethosense\\tests\\FoodNutritionValories.ipynb Cell 25\u001b[0m line \u001b[0;36m1\n\u001b[1;32m----> <a href='vscode-notebook-cell:/c%3A/Users/Nitish/Desktop/stethosense/tests/FoodNutritionValories.ipynb#X33sZmlsZQ%3D%3D?line=0'>1</a>\u001b[0m data[\u001b[39m'\u001b[39m\u001b[39mcarbohydrate\u001b[39m\u001b[39m'\u001b[39m] \u001b[39m=\u001b[39m np\u001b[39m.\u001b[39marray([data[\u001b[39m'\u001b[39;49m\u001b[39mcarbohydrate\u001b[39;49m\u001b[39m'\u001b[39;49m]\u001b[39m.\u001b[39;49mtolist()[i]\u001b[39m.\u001b[39;49msplit(\u001b[39m'\u001b[39m\u001b[39m \u001b[39m\u001b[39m'\u001b[39m) \u001b[39mfor\u001b[39;00m i \u001b[39min\u001b[39;00m \u001b[39mrange\u001b[39m(\u001b[39mlen\u001b[39m(data))])[:,\u001b[39m0\u001b[39m]\u001b[39m.\u001b[39mastype(\u001b[39m'\u001b[39m\u001b[39mfloat\u001b[39m\u001b[39m'\u001b[39m)\n\u001b[0;32m      <a href='vscode-notebook-cell:/c%3A/Users/Nitish/Desktop/stethosense/tests/FoodNutritionValories.ipynb#X33sZmlsZQ%3D%3D?line=1'>2</a>\u001b[0m data[\u001b[39m'\u001b[39m\u001b[39mprotein\u001b[39m\u001b[39m'\u001b[39m] \u001b[39m=\u001b[39m np\u001b[39m.\u001b[39marray([data[\u001b[39m'\u001b[39m\u001b[39mprotein\u001b[39m\u001b[39m'\u001b[39m]\u001b[39m.\u001b[39mtolist()[i]\u001b[39m.\u001b[39msplit(\u001b[39m'\u001b[39m\u001b[39m \u001b[39m\u001b[39m'\u001b[39m) \u001b[39mfor\u001b[39;00m i \u001b[39min\u001b[39;00m \u001b[39mrange\u001b[39m(\u001b[39mlen\u001b[39m(data))])[:,\u001b[39m0\u001b[39m]\u001b[39m.\u001b[39mastype(\u001b[39m'\u001b[39m\u001b[39mfloat\u001b[39m\u001b[39m'\u001b[39m)\n\u001b[0;32m      <a href='vscode-notebook-cell:/c%3A/Users/Nitish/Desktop/stethosense/tests/FoodNutritionValories.ipynb#X33sZmlsZQ%3D%3D?line=2'>3</a>\u001b[0m data[\u001b[39m'\u001b[39m\u001b[39mtotal_fat\u001b[39m\u001b[39m'\u001b[39m] \u001b[39m=\u001b[39m np\u001b[39m.\u001b[39marray([data[\u001b[39m'\u001b[39m\u001b[39mtotal_fat\u001b[39m\u001b[39m'\u001b[39m]\u001b[39m.\u001b[39mtolist()[i]\u001b[39m.\u001b[39msplit(\u001b[39m'\u001b[39m\u001b[39mg\u001b[39m\u001b[39m'\u001b[39m) \u001b[39mfor\u001b[39;00m i \u001b[39min\u001b[39;00m \u001b[39mrange\u001b[39m(\u001b[39mlen\u001b[39m(data))])[:,\u001b[39m0\u001b[39m]\u001b[39m.\u001b[39mastype(\u001b[39m'\u001b[39m\u001b[39mfloat\u001b[39m\u001b[39m'\u001b[39m)\n",
      "\u001b[1;31mAttributeError\u001b[0m: 'float' object has no attribute 'split'"
     ]
    }
   ],
   "source": [
    "data['carbohydrate'] = np.array([data['carbohydrate'].tolist()[i].split(' ') for i in range(len(data))])[:,0].astype('float')\n",
    "data['protein'] = np.array([data['protein'].tolist()[i].split(' ') for i in range(len(data))])[:,0].astype('float')\n",
    "data['total_fat'] = np.array([data['total_fat'].tolist()[i].split('g') for i in range(len(data))])[:,0].astype('float')"
   ]
  },
  {
   "cell_type": "code",
   "execution_count": 43,
   "metadata": {},
   "outputs": [],
   "source": [
    "week_days = ['Monday','Tuesday','Wednesday','Thursday','Friday','Saturday','Sunday']\n",
    "split_values = np.linspace(0,len(data),8).astype(int)\n",
    "split_values[-1] = split_values[-1]-1\n",
    "def random_dataset():\n",
    "    frac_data = data.sample(frac=1).reset_index().drop('index',axis=1)\n",
    "    day_data = []\n",
    "    for s in range(len(split_values)-1):\n",
    "        day_data.append(frac_data.loc[split_values[s]:split_values[s+1]])\n",
    "    return dict(zip(week_days,day_data))"
   ]
  },
  {
   "cell_type": "code",
   "execution_count": 44,
   "metadata": {},
   "outputs": [
    {
     "data": {
      "text/html": [
       "<div>\n",
       "<style scoped>\n",
       "    .dataframe tbody tr th:only-of-type {\n",
       "        vertical-align: middle;\n",
       "    }\n",
       "\n",
       "    .dataframe tbody tr th {\n",
       "        vertical-align: top;\n",
       "    }\n",
       "\n",
       "    .dataframe thead th {\n",
       "        text-align: right;\n",
       "    }\n",
       "</style>\n",
       "<table border=\"1\" class=\"dataframe\">\n",
       "  <thead>\n",
       "    <tr style=\"text-align: right;\">\n",
       "      <th></th>\n",
       "      <th>name</th>\n",
       "      <th>calories</th>\n",
       "      <th>carbohydrate</th>\n",
       "      <th>total_fat</th>\n",
       "      <th>protein</th>\n",
       "    </tr>\n",
       "  </thead>\n",
       "  <tbody>\n",
       "    <tr>\n",
       "      <th>0</th>\n",
       "      <td>Popovers, enriched, dry mix</td>\n",
       "      <td>371</td>\n",
       "      <td>71.00</td>\n",
       "      <td>4.3</td>\n",
       "      <td>10.40</td>\n",
       "    </tr>\n",
       "    <tr>\n",
       "      <th>1</th>\n",
       "      <td>Beef, raw, choice, trimmed to 1/8\" fat, separa...</td>\n",
       "      <td>138</td>\n",
       "      <td>0.00</td>\n",
       "      <td>5.8</td>\n",
       "      <td>21.34</td>\n",
       "    </tr>\n",
       "    <tr>\n",
       "      <th>2</th>\n",
       "      <td>PACE, Tequila Lime Salsa</td>\n",
       "      <td>47</td>\n",
       "      <td>9.38</td>\n",
       "      <td>0.0</td>\n",
       "      <td>0.00</td>\n",
       "    </tr>\n",
       "    <tr>\n",
       "      <th>3</th>\n",
       "      <td>Cookies, coconut macaroon</td>\n",
       "      <td>460</td>\n",
       "      <td>61.22</td>\n",
       "      <td>23.0</td>\n",
       "      <td>3.02</td>\n",
       "    </tr>\n",
       "    <tr>\n",
       "      <th>4</th>\n",
       "      <td>Squash, without salt, boiled, cooked, frozen, ...</td>\n",
       "      <td>39</td>\n",
       "      <td>10.05</td>\n",
       "      <td>0.1</td>\n",
       "      <td>1.23</td>\n",
       "    </tr>\n",
       "    <tr>\n",
       "      <th>...</th>\n",
       "      <td>...</td>\n",
       "      <td>...</td>\n",
       "      <td>...</td>\n",
       "      <td>...</td>\n",
       "      <td>...</td>\n",
       "    </tr>\n",
       "    <tr>\n",
       "      <th>1251</th>\n",
       "      <td>KFC, Coleslaw</td>\n",
       "      <td>144</td>\n",
       "      <td>15.65</td>\n",
       "      <td>8.6</td>\n",
       "      <td>0.91</td>\n",
       "    </tr>\n",
       "    <tr>\n",
       "      <th>1252</th>\n",
       "      <td>SUNSHINE, Cheez-It Crackers, GRIPZ</td>\n",
       "      <td>491</td>\n",
       "      <td>61.00</td>\n",
       "      <td>23.0</td>\n",
       "      <td>11.00</td>\n",
       "    </tr>\n",
       "    <tr>\n",
       "      <th>1253</th>\n",
       "      <td>Beans, without salt, boiled, cooked, mature se...</td>\n",
       "      <td>144</td>\n",
       "      <td>25.28</td>\n",
       "      <td>1.1</td>\n",
       "      <td>9.16</td>\n",
       "    </tr>\n",
       "    <tr>\n",
       "      <th>1254</th>\n",
       "      <td>Fish, drained solids, without salt, canned in ...</td>\n",
       "      <td>128</td>\n",
       "      <td>0.00</td>\n",
       "      <td>3.0</td>\n",
       "      <td>23.62</td>\n",
       "    </tr>\n",
       "    <tr>\n",
       "      <th>1255</th>\n",
       "      <td>Pomegranate juice, bottled</td>\n",
       "      <td>54</td>\n",
       "      <td>13.13</td>\n",
       "      <td>0.3</td>\n",
       "      <td>0.15</td>\n",
       "    </tr>\n",
       "  </tbody>\n",
       "</table>\n",
       "<p>1256 rows × 5 columns</p>\n",
       "</div>"
      ],
      "text/plain": [
       "                                                   name  calories  \\\n",
       "0                           Popovers, enriched, dry mix       371   \n",
       "1     Beef, raw, choice, trimmed to 1/8\" fat, separa...       138   \n",
       "2                              PACE, Tequila Lime Salsa        47   \n",
       "3                             Cookies, coconut macaroon       460   \n",
       "4     Squash, without salt, boiled, cooked, frozen, ...        39   \n",
       "...                                                 ...       ...   \n",
       "1251                                      KFC, Coleslaw       144   \n",
       "1252                 SUNSHINE, Cheez-It Crackers, GRIPZ       491   \n",
       "1253  Beans, without salt, boiled, cooked, mature se...       144   \n",
       "1254  Fish, drained solids, without salt, canned in ...       128   \n",
       "1255                         Pomegranate juice, bottled        54   \n",
       "\n",
       "      carbohydrate  total_fat  protein  \n",
       "0            71.00        4.3    10.40  \n",
       "1             0.00        5.8    21.34  \n",
       "2             9.38        0.0     0.00  \n",
       "3            61.22       23.0     3.02  \n",
       "4            10.05        0.1     1.23  \n",
       "...            ...        ...      ...  \n",
       "1251         15.65        8.6     0.91  \n",
       "1252         61.00       23.0    11.00  \n",
       "1253         25.28        1.1     9.16  \n",
       "1254          0.00        3.0    23.62  \n",
       "1255         13.13        0.3     0.15  \n",
       "\n",
       "[1256 rows x 5 columns]"
      ]
     },
     "execution_count": 44,
     "metadata": {},
     "output_type": "execute_result"
    }
   ],
   "source": [
    "random_dataset()['Monday']"
   ]
  },
  {
   "cell_type": "code",
   "execution_count": 81,
   "metadata": {},
   "outputs": [],
   "source": [
    "days_data = random_dataset()\n",
    "def model(day,kg,calories):\n",
    "    G = extract_gram(build_nutritional_values(kg,calories))\n",
    "    E = G['Carbohydrates Grams']\n",
    "    F = G['Fat Grams']\n",
    "    P = G['Protein Grams']\n",
    "    day_data = days_data[day]\n",
    "    day_data = day_data[day_data.calories!=0]\n",
    "    food = day_data.name.tolist()\n",
    "    c  = day_data.calories.tolist()\n",
    "    x  = pulp.LpVariable.dicts( \"x\", indices = food, lowBound=0, upBound=1.5, cat='Continuous', indexStart=[] )\n",
    "    e = day_data.carbohydrate.tolist()\n",
    "    f = day_data.total_fat.tolist()\n",
    "    p = day_data.protein.tolist()\n",
    "    prob  = pulp.LpProblem( \"Diet\", LpMinimize )\n",
    "    prob += pulp.lpSum( [x[food[i]]*c[i] for i in range(len(food))]  )\n",
    "    prob += pulp.lpSum( [x[food[i]]*e[i] for i in range(len(x)) ] )>=E\n",
    "    prob += pulp.lpSum( [x[food[i]]*f[i] for i in range(len(x)) ] )>=F\n",
    "    prob += pulp.lpSum( [x[food[i]]*p[i] for i in range(len(x)) ] )>=P\n",
    "    prob.solve()\n",
    "    variables = []\n",
    "    values = []\n",
    "    for v in prob.variables():\n",
    "        variable = v.name\n",
    "        value = v.varValue\n",
    "        variables.append(variable)\n",
    "        values.append(value)\n",
    "    values = np.array(values).round(2).astype(float)\n",
    "    sol = pd.DataFrame(np.array([food,values]).T, columns = ['Food','Quantity'])\n",
    "    sol['Quantity'] = sol.Quantity.astype(float)\n",
    "    return sol\n",
    "\n"
   ]
  },
  {
   "cell_type": "markdown",
   "metadata": {},
   "source": [
    "### Nitish's code"
   ]
  },
  {
   "cell_type": "code",
   "execution_count": 82,
   "metadata": {},
   "outputs": [
    {
     "data": {
      "text/plain": [
       "dict"
      ]
     },
     "execution_count": 82,
     "metadata": {},
     "output_type": "execute_result"
    }
   ],
   "source": [
    "import pickle\n",
    "\n",
    "with open('days_data.pkl', 'wb') as file:\n",
    "    pickle.dump(days_data, file)\n",
    "    \n",
    "type(days_data)"
   ]
  },
  {
   "cell_type": "code",
   "execution_count": 83,
   "metadata": {},
   "outputs": [
    {
     "data": {
      "text/plain": [
       "dict"
      ]
     },
     "execution_count": 83,
     "metadata": {},
     "output_type": "execute_result"
    }
   ],
   "source": [
    "# import pickle\n",
    "\n",
    "# with open('days_data.pkl', 'rb') as file:\n",
    "#     days_data = pickle.load(file)\n",
    "\n",
    "# type(days_data)"
   ]
  },
  {
   "cell_type": "code",
   "execution_count": null,
   "metadata": {},
   "outputs": [],
   "source": []
  },
  {
   "cell_type": "code",
   "execution_count": null,
   "metadata": {},
   "outputs": [],
   "source": [
    "sol_monday = model('Monday',70,1500)"
   ]
  },
  {
   "cell_type": "code",
   "execution_count": null,
   "metadata": {},
   "outputs": [
    {
     "data": {
      "text/html": [
       "<div>\n",
       "<style scoped>\n",
       "    .dataframe tbody tr th:only-of-type {\n",
       "        vertical-align: middle;\n",
       "    }\n",
       "\n",
       "    .dataframe tbody tr th {\n",
       "        vertical-align: top;\n",
       "    }\n",
       "\n",
       "    .dataframe thead th {\n",
       "        text-align: right;\n",
       "    }\n",
       "</style>\n",
       "<table border=\"1\" class=\"dataframe\">\n",
       "  <thead>\n",
       "    <tr style=\"text-align: right;\">\n",
       "      <th></th>\n",
       "      <th>Food</th>\n",
       "      <th>Quantity (g)</th>\n",
       "    </tr>\n",
       "  </thead>\n",
       "  <tbody>\n",
       "    <tr>\n",
       "      <th>379</th>\n",
       "      <td>Tofu, prepared with calcium sulfate, salted an...</td>\n",
       "      <td>150.0</td>\n",
       "    </tr>\n",
       "    <tr>\n",
       "      <th>459</th>\n",
       "      <td>Beef, braised, cooked, choice, trimmed to 0\" f...</td>\n",
       "      <td>150.0</td>\n",
       "    </tr>\n",
       "    <tr>\n",
       "      <th>834</th>\n",
       "      <td>Lamb, roasted, cooked, choice, trimmed to 1/4\"...</td>\n",
       "      <td>52.0</td>\n",
       "    </tr>\n",
       "    <tr>\n",
       "      <th>1118</th>\n",
       "      <td>SILK Light Plain, soymilk</td>\n",
       "      <td>88.0</td>\n",
       "    </tr>\n",
       "    <tr>\n",
       "      <th>1152</th>\n",
       "      <td>Sweet rolls, commercially prepared with raisin...</td>\n",
       "      <td>150.0</td>\n",
       "    </tr>\n",
       "    <tr>\n",
       "      <th>1162</th>\n",
       "      <td>PACE, Tequila Lime Salsa</td>\n",
       "      <td>7.0</td>\n",
       "    </tr>\n",
       "    <tr>\n",
       "      <th>1234</th>\n",
       "      <td>USDA Commodity, solids and liquids, light syru...</td>\n",
       "      <td>150.0</td>\n",
       "    </tr>\n",
       "  </tbody>\n",
       "</table>\n",
       "</div>"
      ],
      "text/plain": [
       "                                                   Food  Quantity (g)\n",
       "379   Tofu, prepared with calcium sulfate, salted an...         150.0\n",
       "459   Beef, braised, cooked, choice, trimmed to 0\" f...         150.0\n",
       "834   Lamb, roasted, cooked, choice, trimmed to 1/4\"...          52.0\n",
       "1118                          SILK Light Plain, soymilk          88.0\n",
       "1152  Sweet rolls, commercially prepared with raisin...         150.0\n",
       "1162                           PACE, Tequila Lime Salsa           7.0\n",
       "1234  USDA Commodity, solids and liquids, light syru...         150.0"
      ]
     },
     "execution_count": 56,
     "metadata": {},
     "output_type": "execute_result"
    }
   ],
   "source": [
    "sol_monday = sol_monday[sol_monday['Quantity']!=0.0]\n",
    "sol_monday.Quantity = sol_monday.Quantity*100\n",
    "sol_monday = sol_monday.rename(columns={'Quantity':'Quantity (g)'})\n",
    "sol_monday"
   ]
  },
  {
   "cell_type": "markdown",
   "metadata": {},
   "source": [
    "## Version 9"
   ]
  },
  {
   "cell_type": "code",
   "execution_count": null,
   "metadata": {},
   "outputs": [],
   "source": [
    "def model(prob,day,kg,calories):\n",
    "    G = extract_gram(build_nutritional_values(kg,calories))\n",
    "    E = G['Carbohydrates Grams']\n",
    "    F = G['Fat Grams']\n",
    "    P = G['Protein Grams']\n",
    "    day_data = days_data[day]\n",
    "    day_data = day_data[day_data.calories!=0]\n",
    "    food = day_data.name.tolist()\n",
    "    c  = day_data.calories.tolist()\n",
    "    x  = pulp.LpVariable.dicts( \"x\", indices = food, lowBound=0, upBound=1.5, cat='Continuous', indexStart=[] )\n",
    "    e = day_data.carbohydrate.tolist()\n",
    "    f = day_data.total_fat.tolist()\n",
    "    p = day_data.protein.tolist()\n",
    "#    prob  = pulp.LpProblem( \"Diet\", LpMinimize )\n",
    "    prob += pulp.lpSum( [x[food[i]]*c[i] for i in range(len(food))]  )\n",
    "    prob += pulp.lpSum( [x[food[i]]*e[i] for i in range(len(x)) ] )>=E\n",
    "    prob += pulp.lpSum( [x[food[i]]*f[i] for i in range(len(x)) ] )>=F\n",
    "    prob += pulp.lpSum( [x[food[i]]*p[i] for i in range(len(x)) ] )>=P\n",
    "    prob.solve()\n",
    "    variables = []\n",
    "    values = []\n",
    "    for v in prob.variables():\n",
    "        variable = v.name\n",
    "        value = v.varValue\n",
    "        variables.append(variable)\n",
    "        values.append(value)\n",
    "    values = np.array(values).round(2).astype(float)\n",
    "    sol = pd.DataFrame(np.array([food,values]).T, columns = ['Food','Quantity'])\n",
    "    sol['Quantity'] = sol.Quantity.astype(float)\n",
    "    sol = sol[sol['Quantity']!=0.0]\n",
    "    sol.Quantity = sol.Quantity*100\n",
    "    sol = sol.rename(columns={'Quantity':'Quantity (g)'})\n",
    "    return sol\n",
    "\n",
    "def total_model(kg,calories):\n",
    "    result = []\n",
    "    for day in week_days:\n",
    "        prob  = pulp.LpProblem( \"Diet\", LpMinimize )\n",
    "        print('Building a model for day %s \\n'%(day))\n",
    "        result.append(model(prob,day,kg,calories))\n",
    "    return dict(zip(week_days,result))"
   ]
  },
  {
   "cell_type": "code",
   "execution_count": null,
   "metadata": {},
   "outputs": [
    {
     "name": "stdout",
     "output_type": "stream",
     "text": [
      "Building a model for day Monday \n",
      "\n",
      "Building a model for day Tuesday \n",
      "\n",
      "Building a model for day Wednesday \n",
      "\n",
      "Building a model for day Thursday \n",
      "\n",
      "Building a model for day Friday \n",
      "\n",
      "Building a model for day Saturday \n",
      "\n",
      "Building a model for day Sunday \n",
      "\n"
     ]
    }
   ],
   "source": [
    "diet = total_model(70,3000)"
   ]
  },
  {
   "cell_type": "code",
   "execution_count": null,
   "metadata": {},
   "outputs": [
    {
     "data": {
      "text/plain": [
       "{'Monday':                                                    Food  Quantity (g)\n",
       " 246   Beef, raw, select, trimmed to 1/8\" fat, separa...         122.0\n",
       " 379   Tofu, prepared with calcium sulfate, salted an...          96.0\n",
       " 459   Beef, braised, cooked, choice, trimmed to 0\" f...         150.0\n",
       " 612   Beef, raw, all grades, trimmed to 0\" fat, sepa...         150.0\n",
       " 849                                KEEBLER, Sugar Cones          30.0\n",
       " 1218                                   Cheese, cheshire         150.0,\n",
       " 'Tuesday':                                                    Food  Quantity (g)\n",
       " 16                                Peppers, raw, serrano         150.0\n",
       " 256   Pork, broiled, cooked, with added solution, se...         150.0\n",
       " 384   Candies, RAISINETS Chocolate Covered Raisins, ...         150.0\n",
       " 750   Incaparina, unprepared, dry mix (corn and soy ...          77.0\n",
       " 757     Fast foods, with crispy chicken fillet, biscuit         150.0\n",
       " 789   Mung beans, without salt, drained, boiled, coo...         150.0\n",
       " 835       Borage, without salt, drained, boiled, cooked          13.0\n",
       " 842                                           Rye grain         150.0\n",
       " 1053  AUSTIN, sandwich-type, Cheddar Cheese on Chees...         150.0\n",
       " 1128                                      Celeriac, raw          79.0\n",
       " 1134                McDONALD'S, Fruit 'n Yogurt Parfait         150.0,\n",
       " 'Wednesday':                                                    Food  Quantity (g)\n",
       " 374   Lamb, roasted, cooked, choice, trimmed to 1/4\"...          39.0\n",
       " 378                                      Frog legs, raw         150.0\n",
       " 468   Beef, raw, choice, trimmed to 0\" fat, separabl...         150.0\n",
       " 588               Oil, sunflower, mid-oleic, industrial         150.0\n",
       " 755   Chicken, raw, with added solution, meat and sk...         150.0\n",
       " 869   Beef, raw, all grades, trimmed to 0\" fat, sepa...         117.0\n",
       " 1062  Nuts, with salt added, unflavored, wheat-based...          59.0,\n",
       " 'Thursday':                                                    Food  Quantity (g)\n",
       " 353                      Burrito, frozen, beef and bean         150.0\n",
       " 823   Duck, roasted, cooked, bone in, meat and skin,...          36.0\n",
       " 827   Beef, fast roasted, cooked, separable lean and...         150.0\n",
       " 1127  Turkey, roasted, cooked, with added solution, ...         104.0\n",
       " 1129  Beef, broiled, cooked, patty, 95% lean meat / ...         150.0\n",
       " 1130  Beef, broiled, cooked, USDA select, trimmed to...          20.0\n",
       " 1132  Candies, prepared-by-recipe, with nuts, chocol...         150.0\n",
       " 1135  Beef, raw, select, trimmed to 1/8\" fat, separa...         150.0\n",
       " 1151                      Candies, REESE'S PIECES Candy         150.0,\n",
       " 'Friday':                                                    Food  Quantity (g)\n",
       " 71    Veal, breaded, pan-fried, cooked, separable le...         150.0\n",
       " 261   Alcoholic beverage, Pinot Blanc, white, table,...         150.0\n",
       " 476   Snacks, with yogurt coating, NATURE VALLEY, GE...         150.0\n",
       " 660              Babyfood, toddler, macaroni and cheese         150.0\n",
       " 797                     Alcoholic beverage, rice (sake)          35.0\n",
       " 1015                        Ostrich, cooked, inside leg         150.0\n",
       " 1230  Infant formula, with ARA and DHA, ready-to-fee...         119.0,\n",
       " 'Saturday':                                                    Food  Quantity (g)\n",
       " 28                       Cheese, queso asadero, mexican         150.0\n",
       " 302   Lamb, fast fried, cooked, separable lean and f...         150.0\n",
       " 347              Grapes, raw, american type (slip skin)         150.0\n",
       " 453   Cereals ready-to-eat, CAP'N CRUNCH'S PEANUT BU...         150.0\n",
       " 740   Beef, roasted, cooked, all grades, trimmed to ...         150.0\n",
       " 1069                   Pork, dehydrated, oriental style          64.0\n",
       " 1129  Infant Formula, ready-to-feed, Newborn, Premiu...           5.0\n",
       " 1132  Duck, roasted, cooked, boneless, meat and skin...         150.0\n",
       " 1137  Snacks, salted, white corn, plain, tortilla chips         150.0\n",
       " 1139  Cereals ready-to-eat, DORA THE EXPLORER, GENER...         150.0\n",
       " 1223                                      Bread, potato          79.0,\n",
       " 'Sunday':                                                    Food  Quantity (g)\n",
       " 229           LOMA LINDA Big Franks, unprepared, canned         150.0\n",
       " 241   Pork, raw, separable lean only, boneless, top ...         106.0\n",
       " 448   Beef, raw, all grades, trimmed to 0\" fat, sepa...         150.0\n",
       " 742   Fruit cocktail, solids and liquids, extra ligh...         150.0\n",
       " 783      Cereals ready-to-eat, CORN BURSTS, MALT-O-MEAL         150.0\n",
       " 828                               SILK Hazelnut Creamer          86.0\n",
       " 1130  Nuts, without salt, all flavors except macadam...         141.0\n",
       " 1134  Beef, grilled, cooked, select, trimmed to 1/8\"...         150.0}"
      ]
     },
     "execution_count": 59,
     "metadata": {},
     "output_type": "execute_result"
    }
   ],
   "source": [
    "diet"
   ]
  },
  {
   "cell_type": "markdown",
   "metadata": {},
   "source": [
    "## Step 1: Calculate Your BMR\n",
    "For women, BMR = 655.1 + (9.563 x weight in kg) + (1.850 x height in cm) - (4.676 x age in years)\n",
    "For men, BMR = 66.47 + (13.75 x weight in kg) + (5.003 x height in cm) - (6.755 x age in years)\n",
    "\n",
    "## Step 2: Calculate Your AMR\n",
    "Sedentary (little or no exercise): AMR = BMR x 1.2\n",
    "Lightly active (exercise 1–3 days/week): AMR = BMR x 1.375\n",
    "Moderately active (exercise 3–5 days/week): AMR = BMR x 1.55\n",
    "Active (exercise 6–7 days/week): AMR = BMR x 1.725\n",
    "Very active (hard exercise 6–7 days/week): AMR = BMR x 1.9\n",
    "\n",
    "* https://www.verywellfit.com/how-many-calories-do-i-need-each-day-2506873 *\n"
   ]
  },
  {
   "cell_type": "code",
   "execution_count": null,
   "metadata": {},
   "outputs": [
    {
     "name": "stdout",
     "output_type": "stream",
     "text": [
      "Daily calorie requirements: 2331.5421250000004 calories\n"
     ]
    }
   ],
   "source": [
    "def calculate_calorie_requirements(gender, age, height_cm, weight_kg):\n",
    "    # Constants for calorie calculation\n",
    "    BMR_MALE = 88.362\n",
    "    BMR_FEMALE = 447.593\n",
    "    ACTIVITY_MULTIPLIER = 1.375  # Slightly active\n",
    "\n",
    "    # Determine BMR based on gender\n",
    "    if gender == 'M':\n",
    "        bmr = BMR_MALE\n",
    "    elif gender == 'F':\n",
    "        bmr = BMR_FEMALE\n",
    "    else:\n",
    "        raise ValueError(\"Invalid gender. Use 'M' for Male or 'F' for Female.\")\n",
    "\n",
    "    # Calculate BMR using the Mifflin-St Jeor equation\n",
    "    bmr += 13.397 * weight_kg + 4.799 * height_cm - 5.677 * age\n",
    "\n",
    "    # Calculate daily calorie requirements based on activity level\n",
    "    daily_calories = bmr * ACTIVITY_MULTIPLIER\n",
    "\n",
    "    return daily_calories\n",
    "\n",
    "# Example usage:\n",
    "gender = 'M'  # 'M' for Male or 'F' for Female\n",
    "age = 30\n",
    "height_cm = 175  # Height in centimeters\n",
    "weight_kg = 70  # Weight in kilograms\n",
    "\n",
    "calorie_requirements = calculate_calorie_requirements(gender, age, height_cm, weight_kg)\n",
    "print(f\"Daily calorie requirements: {calorie_requirements} calories\")\n"
   ]
  },
  {
   "cell_type": "code",
   "execution_count": null,
   "metadata": {},
   "outputs": [],
   "source": []
  }
 ],
 "metadata": {
  "colab": {
   "name": "Untitled3.ipynb",
   "provenance": []
  },
  "kernelspec": {
   "display_name": "Python 3",
   "language": "python",
   "name": "python3"
  },
  "language_info": {
   "codemirror_mode": {
    "name": "ipython",
    "version": 3
   },
   "file_extension": ".py",
   "mimetype": "text/x-python",
   "name": "python",
   "nbconvert_exporter": "python",
   "pygments_lexer": "ipython3",
   "version": "3.9.0"
  }
 },
 "nbformat": 4,
 "nbformat_minor": 1
}
